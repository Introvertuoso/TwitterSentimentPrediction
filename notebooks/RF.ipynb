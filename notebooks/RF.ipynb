{
 "cells": [
  {
   "cell_type": "code",
   "execution_count": 54,
   "outputs": [],
   "source": [
    "team_id = '40'\n",
    "split = \"test_1\""
   ],
   "metadata": {
    "collapsed": false,
    "ExecuteTime": {
     "end_time": "2023-06-09T19:08:39.544060Z",
     "start_time": "2023-06-09T19:08:39.422591Z"
    }
   }
  },
  {
   "cell_type": "code",
   "execution_count": 55,
   "metadata": {
    "collapsed": true,
    "ExecuteTime": {
     "end_time": "2023-06-09T19:08:39.625827Z",
     "start_time": "2023-06-09T19:08:39.427266Z"
    }
   },
   "outputs": [],
   "source": [
    "from src.dataloader import base_loader\n",
    "\n",
    "df, df_test = base_loader(split)"
   ]
  },
  {
   "cell_type": "code",
   "execution_count": 56,
   "outputs": [],
   "source": [
    "from src.embedding import base_embedder\n",
    "from sklearn import preprocessing\n",
    "\n",
    "X = base_embedder(df.words_str.values)\n",
    "y_reg = df.score_compound.values\n",
    "y_clf = preprocessing.LabelEncoder().fit_transform(df.sentiment.values)\n",
    "\n",
    "X_test = base_embedder(df_test.words_str.values)"
   ],
   "metadata": {
    "collapsed": false,
    "ExecuteTime": {
     "end_time": "2023-06-09T19:09:42.456372Z",
     "start_time": "2023-06-09T19:08:39.627305Z"
    }
   }
  },
  {
   "cell_type": "markdown",
   "source": [
    "### Regression"
   ],
   "metadata": {
    "collapsed": false
   }
  },
  {
   "cell_type": "code",
   "execution_count": 57,
   "outputs": [],
   "source": [
    "import pandas as pd\n",
    "import smogn\n",
    "from sklearn.model_selection import train_test_split\n",
    "from imblearn.over_sampling import SMOTE\n",
    "\n",
    "X_train, X_val, y_train, y_val = train_test_split(X, y_reg, test_size=0.2, random_state=42, stratify=y_clf)\n",
    "# temp = pd.concat([pd.DataFrame(X_train), pd.Series(y_train, name=\"y_train\")], axis=1)\n",
    "#\n",
    "# temp_smogn = smogn.smoter(data = temp, y = \"y_train\")\n",
    "#\n",
    "# y_resampled = temp_smogn[\"y_train\"]\n",
    "# X_resampled = temp_smogn.drop[\"y_train\"]\n",
    "\n",
    "X_resampled = X_train\n",
    "y_resampled = y_train\n",
    "\n",
    "datasets = [\n",
    "    [X_resampled, y_resampled],\n",
    "    [X_val, y_val]\n",
    "]"
   ],
   "metadata": {
    "collapsed": false,
    "ExecuteTime": {
     "end_time": "2023-06-09T19:09:42.470949Z",
     "start_time": "2023-06-09T19:09:42.457376Z"
    }
   }
  },
  {
   "cell_type": "code",
   "execution_count": 58,
   "outputs": [],
   "source": [
    "from sklearn.ensemble import RandomForestRegressor\n",
    "\n",
    "reg = RandomForestRegressor().fit(X_resampled, y_resampled)"
   ],
   "metadata": {
    "collapsed": false,
    "ExecuteTime": {
     "end_time": "2023-06-09T19:13:24.289620Z",
     "start_time": "2023-06-09T19:09:42.471763Z"
    }
   }
  },
  {
   "cell_type": "code",
   "execution_count": 59,
   "outputs": [
    {
     "name": "stdout",
     "output_type": "stream",
     "text": [
      "\n",
      "Split: train\n",
      "\tRMSE: 0.13\n",
      "\tMAE: 0.10\n",
      "\n",
      "Split: valididation\n",
      "\tRMSE: 0.34\n",
      "\tMAE: 0.26\n"
     ]
    }
   ],
   "source": [
    "from src.evaluation import eval_reg\n",
    "\n",
    "eval_reg(reg, datasets)"
   ],
   "metadata": {
    "collapsed": false,
    "ExecuteTime": {
     "end_time": "2023-06-09T19:13:24.437582Z",
     "start_time": "2023-06-09T19:13:24.285071Z"
    }
   }
  },
  {
   "cell_type": "code",
   "execution_count": 60,
   "outputs": [],
   "source": [
    "from src.utils import save_sub\n",
    "\n",
    "save_sub(reg, X_test, split, 'reg')"
   ],
   "metadata": {
    "collapsed": false,
    "ExecuteTime": {
     "end_time": "2023-06-09T19:13:24.445510Z",
     "start_time": "2023-06-09T19:13:24.425131Z"
    }
   }
  },
  {
   "cell_type": "markdown",
   "source": [
    "### Classification"
   ],
   "metadata": {
    "collapsed": false
   }
  },
  {
   "cell_type": "code",
   "execution_count": 61,
   "outputs": [],
   "source": [
    "X_train, X_val, y_train, y_val = train_test_split(X, y_clf, test_size=0.2, random_state=42, stratify=y_clf)\n",
    "\n",
    "X_resampled, y_resampled = SMOTE().fit_resample(X_train, y_train)\n",
    "\n",
    "datasets = [\n",
    "    [X_resampled, y_resampled],\n",
    "    [X_val, y_val]\n",
    "]"
   ],
   "metadata": {
    "collapsed": false,
    "ExecuteTime": {
     "end_time": "2023-06-09T19:13:24.586369Z",
     "start_time": "2023-06-09T19:13:24.458003Z"
    }
   }
  },
  {
   "cell_type": "code",
   "execution_count": 62,
   "outputs": [],
   "source": [
    "from sklearn.ensemble import RandomForestClassifier\n",
    "\n",
    "clf = RandomForestClassifier().fit(X_resampled, y_resampled)"
   ],
   "metadata": {
    "collapsed": false,
    "ExecuteTime": {
     "end_time": "2023-06-09T19:13:53.210031Z",
     "start_time": "2023-06-09T19:13:24.540083Z"
    }
   }
  },
  {
   "cell_type": "code",
   "execution_count": 63,
   "outputs": [
    {
     "name": "stdout",
     "output_type": "stream",
     "text": [
      "\n",
      "Split: train\n",
      "              precision    recall  f1-score   support\n",
      "\n",
      "           0       1.00      1.00      1.00      4232\n",
      "           1       1.00      1.00      1.00      4232\n",
      "           2       1.00      1.00      1.00      4232\n",
      "\n",
      "    accuracy                           1.00     12696\n",
      "   macro avg       1.00      1.00      1.00     12696\n",
      "weighted avg       1.00      1.00      1.00     12696\n",
      "\n",
      "\n",
      "Split: validation\n",
      "              precision    recall  f1-score   support\n",
      "\n",
      "           0       0.41      0.41      0.41        96\n",
      "           1       0.79      0.86      0.82      1058\n",
      "           2       0.71      0.59      0.64       446\n",
      "\n",
      "    accuracy                           0.75      1600\n",
      "   macro avg       0.64      0.62      0.63      1600\n",
      "weighted avg       0.75      0.75      0.75      1600\n",
      "\n"
     ]
    }
   ],
   "source": [
    "from src.evaluation import eval_clf\n",
    "\n",
    "eval_clf(clf, datasets)"
   ],
   "metadata": {
    "collapsed": false,
    "ExecuteTime": {
     "end_time": "2023-06-09T19:13:53.370170Z",
     "start_time": "2023-06-09T19:13:53.185019Z"
    }
   }
  },
  {
   "cell_type": "code",
   "execution_count": 64,
   "outputs": [],
   "source": [
    "from src.utils import save_sub\n",
    "\n",
    "save_sub(reg, X_test, split, 'clf')"
   ],
   "metadata": {
    "collapsed": false,
    "ExecuteTime": {
     "end_time": "2023-06-09T19:13:53.414184Z",
     "start_time": "2023-06-09T19:13:53.367626Z"
    }
   }
  },
  {
   "cell_type": "code",
   "execution_count": 64,
   "outputs": [],
   "source": [],
   "metadata": {
    "collapsed": false,
    "ExecuteTime": {
     "end_time": "2023-06-09T19:13:53.432127Z",
     "start_time": "2023-06-09T19:13:53.389717Z"
    }
   }
  }
 ],
 "metadata": {
  "kernelspec": {
   "display_name": "Python 3",
   "language": "python",
   "name": "python3"
  },
  "language_info": {
   "codemirror_mode": {
    "name": "ipython",
    "version": 2
   },
   "file_extension": ".py",
   "mimetype": "text/x-python",
   "name": "python",
   "nbconvert_exporter": "python",
   "pygments_lexer": "ipython2",
   "version": "2.7.6"
  }
 },
 "nbformat": 4,
 "nbformat_minor": 0
}
