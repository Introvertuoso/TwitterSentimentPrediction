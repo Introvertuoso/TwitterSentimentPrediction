{
 "cells": [
  {
   "cell_type": "code",
   "execution_count": 73,
   "outputs": [],
   "source": [
    "team_id = '40'\n",
    "split = \"test_1\""
   ],
   "metadata": {
    "collapsed": false,
    "ExecuteTime": {
     "end_time": "2023-06-09T17:46:05.728577Z",
     "start_time": "2023-06-09T17:46:05.657993Z"
    }
   }
  },
  {
   "cell_type": "code",
   "execution_count": 74,
   "metadata": {
    "collapsed": true,
    "ExecuteTime": {
     "end_time": "2023-06-09T17:46:05.871718Z",
     "start_time": "2023-06-09T17:46:05.661729Z"
    }
   },
   "outputs": [],
   "source": [
    "from src.dataloader import base_loader\n",
    "\n",
    "df, df_test = base_loader(split)"
   ]
  },
  {
   "cell_type": "code",
   "execution_count": 75,
   "outputs": [],
   "source": [
    "from src.embedding import base_embedder\n",
    "from sklearn import preprocessing\n",
    "\n",
    "X = base_embedder(df.words_str.values)\n",
    "y_reg = df.score_compound.values\n",
    "y_clf = preprocessing.LabelEncoder().fit_transform(df.sentiment.values)\n",
    "\n",
    "X_test = base_embedder(df_test.words_str.values)"
   ],
   "metadata": {
    "collapsed": false,
    "ExecuteTime": {
     "end_time": "2023-06-09T17:47:41.418499Z",
     "start_time": "2023-06-09T17:46:05.872710Z"
    }
   }
  },
  {
   "cell_type": "markdown",
   "source": [
    "### Regression"
   ],
   "metadata": {
    "collapsed": false
   }
  },
  {
   "cell_type": "code",
   "execution_count": 76,
   "outputs": [],
   "source": [
    "from imblearn.over_sampling import SMOTE\n",
    "from sklearn.model_selection import train_test_split\n",
    "\n",
    "X_train, X_val, y_train, y_val = train_test_split(X, y_reg, test_size=0.2, random_state=42, stratify=df.sentiment)\n",
    "\n",
    "# X_resampled, y_resampled = SMOTE().fit_resample(X_train, y_train)\n",
    "\n",
    "X_resampled = X_train\n",
    "y_resampled = y_train\n",
    "\n",
    "datasets = [\n",
    "    [X_resampled, y_resampled],\n",
    "    [X_val, y_val]\n",
    "]"
   ],
   "metadata": {
    "collapsed": false,
    "ExecuteTime": {
     "end_time": "2023-06-09T17:47:41.438429Z",
     "start_time": "2023-06-09T17:47:41.419448Z"
    }
   }
  },
  {
   "cell_type": "code",
   "execution_count": 77,
   "outputs": [],
   "source": [
    "from sklearn.neural_network import MLPRegressor\n",
    "\n",
    "reg = MLPRegressor((512, 256), learning_rate=\"adaptive\").fit(X_train, y_train)"
   ],
   "metadata": {
    "collapsed": false,
    "ExecuteTime": {
     "end_time": "2023-06-09T17:48:42.311482Z",
     "start_time": "2023-06-09T17:47:41.439748Z"
    }
   }
  },
  {
   "cell_type": "code",
   "execution_count": 78,
   "outputs": [
    {
     "name": "stdout",
     "output_type": "stream",
     "text": [
      "\n",
      "Split: train\n",
      "\tRMSE: 0.04\n",
      "\tMAE: 0.03\n",
      "\n",
      "Split: valididation\n",
      "\tRMSE: 0.35\n",
      "\tMAE: 0.27\n"
     ]
    }
   ],
   "source": [
    "from src.evaluation import eval_reg\n",
    "\n",
    "eval_reg(reg, datasets)"
   ],
   "metadata": {
    "collapsed": false,
    "ExecuteTime": {
     "end_time": "2023-06-09T17:48:42.587205Z",
     "start_time": "2023-06-09T17:48:42.312718Z"
    }
   }
  },
  {
   "cell_type": "code",
   "execution_count": 79,
   "outputs": [],
   "source": [
    "from src.utils import save_sub\n",
    "\n",
    "save_sub(reg, X_test, split, 'reg')"
   ],
   "metadata": {
    "collapsed": false,
    "ExecuteTime": {
     "end_time": "2023-06-09T17:48:42.611741Z",
     "start_time": "2023-06-09T17:48:42.585849Z"
    }
   }
  },
  {
   "cell_type": "markdown",
   "source": [
    "### Classification"
   ],
   "metadata": {
    "collapsed": false
   }
  },
  {
   "cell_type": "code",
   "execution_count": 80,
   "outputs": [],
   "source": [
    "X_train, X_val, y_train, y_val = train_test_split(X, y_clf, test_size=0.2, random_state=42, stratify=y_clf)\n",
    "\n",
    "X_resampled, y_resampled = SMOTE().fit_resample(X_train, y_train)\n",
    "\n",
    "datasets = [\n",
    "    [X_resampled, y_resampled],\n",
    "    [X_val, y_val]\n",
    "]"
   ],
   "metadata": {
    "collapsed": false,
    "ExecuteTime": {
     "end_time": "2023-06-09T17:48:43.031235Z",
     "start_time": "2023-06-09T17:48:42.611564Z"
    }
   }
  },
  {
   "cell_type": "code",
   "execution_count": 81,
   "outputs": [],
   "source": [
    "from sklearn.neural_network import MLPClassifier\n",
    "\n",
    "clf = MLPClassifier((512, 256, 128, 64, 32), learning_rate=\"adaptive\", max_iter=1000).fit(X_train, y_train)"
   ],
   "metadata": {
    "collapsed": false,
    "ExecuteTime": {
     "end_time": "2023-06-09T17:49:28.602620Z",
     "start_time": "2023-06-09T17:48:43.007404Z"
    }
   }
  },
  {
   "cell_type": "code",
   "execution_count": 82,
   "outputs": [
    {
     "name": "stdout",
     "output_type": "stream",
     "text": [
      "\n",
      "Split: train\n",
      "              precision    recall  f1-score   support\n",
      "\n",
      "           0       1.00      0.99      0.99      4232\n",
      "           1       0.98      1.00      0.99      4232\n",
      "           2       1.00      0.98      0.99      4232\n",
      "\n",
      "    accuracy                           0.99     12696\n",
      "   macro avg       0.99      0.99      0.99     12696\n",
      "weighted avg       0.99      0.99      0.99     12696\n",
      "\n",
      "\n",
      "Split: validation\n",
      "              precision    recall  f1-score   support\n",
      "\n",
      "           0       0.43      0.55      0.48        96\n",
      "           1       0.81      0.81      0.81      1058\n",
      "           2       0.65      0.61      0.63       446\n",
      "\n",
      "    accuracy                           0.74      1600\n",
      "   macro avg       0.63      0.66      0.64      1600\n",
      "weighted avg       0.74      0.74      0.74      1600\n",
      "\n"
     ]
    }
   ],
   "source": [
    "from src.evaluation import eval_clf\n",
    "\n",
    "eval_clf(clf, datasets)"
   ],
   "metadata": {
    "collapsed": false,
    "ExecuteTime": {
     "end_time": "2023-06-09T17:49:28.924059Z",
     "start_time": "2023-06-09T17:49:28.606376Z"
    }
   }
  },
  {
   "cell_type": "code",
   "execution_count": 83,
   "outputs": [],
   "source": [
    "from src.utils import save_sub\n",
    "\n",
    "save_sub(reg, X_test, split, 'clf')"
   ],
   "metadata": {
    "collapsed": false,
    "ExecuteTime": {
     "end_time": "2023-06-09T17:49:28.972826Z",
     "start_time": "2023-06-09T17:49:28.924941Z"
    }
   }
  },
  {
   "cell_type": "code",
   "execution_count": 83,
   "outputs": [],
   "source": [],
   "metadata": {
    "collapsed": false,
    "ExecuteTime": {
     "end_time": "2023-06-09T17:49:28.999372Z",
     "start_time": "2023-06-09T17:49:28.973849Z"
    }
   }
  }
 ],
 "metadata": {
  "kernelspec": {
   "display_name": "Python 3",
   "language": "python",
   "name": "python3"
  },
  "language_info": {
   "codemirror_mode": {
    "name": "ipython",
    "version": 2
   },
   "file_extension": ".py",
   "mimetype": "text/x-python",
   "name": "python",
   "nbconvert_exporter": "python",
   "pygments_lexer": "ipython2",
   "version": "2.7.6"
  }
 },
 "nbformat": 4,
 "nbformat_minor": 0
}
