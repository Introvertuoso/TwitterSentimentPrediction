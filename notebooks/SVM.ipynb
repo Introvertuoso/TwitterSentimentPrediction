{
 "cells": [
  {
   "cell_type": "code",
   "execution_count": 23,
   "outputs": [],
   "source": [
    "team_id = '40'\n",
    "split = \"test_1\""
   ],
   "metadata": {
    "collapsed": false,
    "ExecuteTime": {
     "end_time": "2023-06-09T20:05:38.607918Z",
     "start_time": "2023-06-09T20:05:38.499874Z"
    }
   }
  },
  {
   "cell_type": "code",
   "execution_count": 24,
   "metadata": {
    "collapsed": true,
    "ExecuteTime": {
     "end_time": "2023-06-09T20:05:38.692685Z",
     "start_time": "2023-06-09T20:05:38.501551Z"
    }
   },
   "outputs": [],
   "source": [
    "from src.dataloader import base_loader\n",
    "\n",
    "df, df_test = base_loader(split)"
   ]
  },
  {
   "cell_type": "code",
   "execution_count": 25,
   "outputs": [],
   "source": [
    "from src.embedding import base_embedder\n",
    "from sklearn import preprocessing\n",
    "\n",
    "X = base_embedder(df.words_str.values)\n",
    "y_reg = df.score_compound.values\n",
    "enc = preprocessing.LabelEncoder()\n",
    "y_clf = enc.fit_transform(df.sentiment.values)\n",
    "\n",
    "X_test = base_embedder(df_test.words_str.values)"
   ],
   "metadata": {
    "collapsed": false,
    "ExecuteTime": {
     "end_time": "2023-06-09T20:06:42.196231Z",
     "start_time": "2023-06-09T20:05:38.693902Z"
    }
   }
  },
  {
   "cell_type": "markdown",
   "source": [
    "### Regression"
   ],
   "metadata": {
    "collapsed": false
   }
  },
  {
   "cell_type": "code",
   "execution_count": 26,
   "outputs": [],
   "source": [
    "import pandas as pd\n",
    "import smogn\n",
    "from sklearn.model_selection import train_test_split\n",
    "from imblearn.over_sampling import SMOTE\n",
    "\n",
    "X_train, X_val, y_train, y_val = train_test_split(X, y_reg, test_size=0.2, random_state=42, stratify=y_clf)\n",
    "# temp = pd.concat([pd.DataFrame(X_train), pd.Series(y_train, name=\"y_train\")], axis=1)\n",
    "\n",
    "# temp_smogn = smogn.smoter(data = temp, y = \"y_train\")\n",
    "\n",
    "# y_resampled = temp_smogn[\"y_train\"]\n",
    "# X_resampled = temp_smogn.drop[\"y_train\"]\n",
    "\n",
    "X_resampled = X_train\n",
    "y_resampled = y_train\n",
    "\n",
    "datasets = [\n",
    "    [X_resampled, y_resampled],\n",
    "    [X_val, y_val]\n",
    "]"
   ],
   "metadata": {
    "collapsed": false,
    "ExecuteTime": {
     "end_time": "2023-06-09T20:06:42.209690Z",
     "start_time": "2023-06-09T20:06:42.197819Z"
    }
   }
  },
  {
   "cell_type": "code",
   "execution_count": 27,
   "outputs": [],
   "source": [
    "from sklearn.svm import SVR\n",
    "\n",
    "reg = SVR().fit(X_resampled, y_resampled)"
   ],
   "metadata": {
    "collapsed": false,
    "ExecuteTime": {
     "end_time": "2023-06-09T20:06:52.970971Z",
     "start_time": "2023-06-09T20:06:42.210803Z"
    }
   }
  },
  {
   "cell_type": "code",
   "execution_count": 28,
   "outputs": [
    {
     "name": "stdout",
     "output_type": "stream",
     "text": [
      "\n",
      "Split: train\n",
      "\tRMSE: 0.21\n",
      "\tMAE: 0.15\n",
      "\n",
      "Split: valididation\n",
      "\tRMSE: 0.31\n",
      "\tMAE: 0.24\n"
     ]
    }
   ],
   "source": [
    "from src.evaluation import eval_reg\n",
    "\n",
    "eval_reg(reg, datasets)"
   ],
   "metadata": {
    "collapsed": false,
    "ExecuteTime": {
     "end_time": "2023-06-09T20:07:11.009816Z",
     "start_time": "2023-06-09T20:06:52.971845Z"
    }
   }
  },
  {
   "cell_type": "code",
   "execution_count": 29,
   "outputs": [
    {
     "name": "stdout",
     "output_type": "stream",
     "text": [
      "(1000,)\n",
      "[ 0.03587885 -0.59095088  0.33802556  0.52473458]\n"
     ]
    }
   ],
   "source": [
    "from src.utils import save_sub\n",
    "\n",
    "save_sub(model=reg, X_test=X_test, split=split, task='reg')"
   ],
   "metadata": {
    "collapsed": false,
    "ExecuteTime": {
     "end_time": "2023-06-09T20:07:13.261759Z",
     "start_time": "2023-06-09T20:07:11.010406Z"
    }
   }
  },
  {
   "cell_type": "markdown",
   "source": [
    "### Classification"
   ],
   "metadata": {
    "collapsed": false
   }
  },
  {
   "cell_type": "code",
   "execution_count": 30,
   "outputs": [],
   "source": [
    "X_train, X_val, y_train, y_val = train_test_split(X, y_clf, test_size=0.2, random_state=42, stratify=y_clf)\n",
    "\n",
    "X_resampled, y_resampled = SMOTE().fit_resample(X_train, y_train)\n",
    "\n",
    "datasets = [\n",
    "    [X_resampled, y_resampled],\n",
    "    [X_val, y_val]\n",
    "]"
   ],
   "metadata": {
    "collapsed": false,
    "ExecuteTime": {
     "end_time": "2023-06-09T20:07:13.348100Z",
     "start_time": "2023-06-09T20:07:13.262707Z"
    }
   }
  },
  {
   "cell_type": "code",
   "execution_count": 31,
   "outputs": [],
   "source": [
    "from sklearn.svm import SVC\n",
    "\n",
    "clf = SVC().fit(X_resampled, y_resampled)"
   ],
   "metadata": {
    "collapsed": false,
    "ExecuteTime": {
     "end_time": "2023-06-09T20:07:39.805053Z",
     "start_time": "2023-06-09T20:07:13.350658Z"
    }
   }
  },
  {
   "cell_type": "code",
   "execution_count": 32,
   "outputs": [
    {
     "name": "stdout",
     "output_type": "stream",
     "text": [
      "\n",
      "Split: train\n",
      "              precision    recall  f1-score   support\n",
      "\n",
      "           0       0.95      0.99      0.97      4232\n",
      "           1       0.92      0.89      0.91      4232\n",
      "           2       0.93      0.91      0.92      4232\n",
      "\n",
      "    accuracy                           0.93     12696\n",
      "   macro avg       0.93      0.93      0.93     12696\n",
      "weighted avg       0.93      0.93      0.93     12696\n",
      "\n",
      "\n",
      "Split: validation\n",
      "              precision    recall  f1-score   support\n",
      "\n",
      "           0       0.44      0.55      0.49        96\n",
      "           1       0.82      0.83      0.83      1058\n",
      "           2       0.69      0.63      0.66       446\n",
      "\n",
      "    accuracy                           0.76      1600\n",
      "   macro avg       0.65      0.67      0.66      1600\n",
      "weighted avg       0.76      0.76      0.76      1600\n",
      "\n"
     ]
    }
   ],
   "source": [
    "from src.evaluation import eval_clf\n",
    "\n",
    "eval_clf(clf, datasets)"
   ],
   "metadata": {
    "collapsed": false,
    "ExecuteTime": {
     "end_time": "2023-06-09T20:08:21.685537Z",
     "start_time": "2023-06-09T20:07:39.805983Z"
    }
   }
  },
  {
   "cell_type": "code",
   "execution_count": 33,
   "outputs": [
    {
     "name": "stdout",
     "output_type": "stream",
     "text": [
      "(1000,)\n",
      "['neutral' 'neutral' 'neutral' 'positive']\n"
     ]
    }
   ],
   "source": [
    "from src.utils import save_sub\n",
    "\n",
    "save_sub(model=clf, X_test=X_test, split=split, enc=enc, task='clf')"
   ],
   "metadata": {
    "collapsed": false,
    "ExecuteTime": {
     "end_time": "2023-06-09T20:08:24.611130Z",
     "start_time": "2023-06-09T20:08:21.686407Z"
    }
   }
  },
  {
   "cell_type": "markdown",
   "source": [
    "### Submission"
   ],
   "metadata": {
    "collapsed": false
   }
  },
  {
   "cell_type": "markdown",
   "source": [
    "#### Regression"
   ],
   "metadata": {
    "collapsed": false
   }
  },
  {
   "cell_type": "code",
   "execution_count": 34,
   "outputs": [],
   "source": [
    "reg = SVR().fit(X, y_reg)"
   ],
   "metadata": {
    "collapsed": false,
    "ExecuteTime": {
     "end_time": "2023-06-09T20:20:49.287139Z",
     "start_time": "2023-06-09T20:20:32.528214Z"
    }
   }
  },
  {
   "cell_type": "code",
   "execution_count": 37,
   "outputs": [
    {
     "name": "stdout",
     "output_type": "stream",
     "text": [
      "\n",
      "Split: train\n",
      "\tRMSE: 0.21\n",
      "\tMAE: 0.15\n",
      "\n",
      "Split: valididation\n",
      "\tRMSE: 0.21\n",
      "\tMAE: 0.15\n"
     ]
    }
   ],
   "source": [
    "eval_reg(reg, [[X, y_reg], [X, y_reg]])"
   ],
   "metadata": {
    "collapsed": false,
    "ExecuteTime": {
     "end_time": "2023-06-09T20:29:46.944022Z",
     "start_time": "2023-06-09T20:29:02.314205Z"
    }
   }
  },
  {
   "cell_type": "code",
   "execution_count": 38,
   "outputs": [
    {
     "name": "stdout",
     "output_type": "stream",
     "text": [
      "(1000,)\n",
      "[-0.05459659 -0.53004469  0.33235456  0.54861968]\n"
     ]
    }
   ],
   "source": [
    "save_sub(model=reg, X_test=X_test, split=split, task='reg')"
   ],
   "metadata": {
    "collapsed": false,
    "ExecuteTime": {
     "end_time": "2023-06-09T20:29:49.752096Z",
     "start_time": "2023-06-09T20:29:46.944495Z"
    }
   }
  },
  {
   "cell_type": "markdown",
   "source": [
    "#### Classification"
   ],
   "metadata": {
    "collapsed": false
   }
  },
  {
   "cell_type": "code",
   "execution_count": 39,
   "outputs": [],
   "source": [
    "X_rs, y_rs = SMOTE().fit_resample(X, y_clf)"
   ],
   "metadata": {
    "collapsed": false,
    "ExecuteTime": {
     "end_time": "2023-06-09T20:29:49.864297Z",
     "start_time": "2023-06-09T20:29:49.751612Z"
    }
   }
  },
  {
   "cell_type": "code",
   "execution_count": 40,
   "outputs": [],
   "source": [
    "clf = SVC().fit(X_rs, y_rs)"
   ],
   "metadata": {
    "collapsed": false,
    "ExecuteTime": {
     "end_time": "2023-06-09T20:30:31.632270Z",
     "start_time": "2023-06-09T20:29:49.865317Z"
    }
   }
  },
  {
   "cell_type": "code",
   "execution_count": 41,
   "outputs": [
    {
     "name": "stdout",
     "output_type": "stream",
     "text": [
      "\n",
      "Split: train\n",
      "              precision    recall  f1-score   support\n",
      "\n",
      "           0       0.67      0.94      0.78       482\n",
      "           1       0.92      0.90      0.91      5290\n",
      "           2       0.83      0.82      0.83      2228\n",
      "\n",
      "    accuracy                           0.88      8000\n",
      "   macro avg       0.81      0.88      0.84      8000\n",
      "weighted avg       0.88      0.88      0.88      8000\n",
      "\n",
      "\n",
      "Split: validation\n",
      "              precision    recall  f1-score   support\n",
      "\n",
      "           0       0.67      0.94      0.78       482\n",
      "           1       0.92      0.90      0.91      5290\n",
      "           2       0.83      0.82      0.83      2228\n",
      "\n",
      "    accuracy                           0.88      8000\n",
      "   macro avg       0.81      0.88      0.84      8000\n",
      "weighted avg       0.88      0.88      0.88      8000\n",
      "\n"
     ]
    }
   ],
   "source": [
    "eval_clf(clf, [[X, y_clf], [X, y_clf]])"
   ],
   "metadata": {
    "collapsed": false,
    "ExecuteTime": {
     "end_time": "2023-06-09T20:31:29.999443Z",
     "start_time": "2023-06-09T20:30:31.634186Z"
    }
   }
  },
  {
   "cell_type": "code",
   "execution_count": 42,
   "outputs": [
    {
     "name": "stdout",
     "output_type": "stream",
     "text": [
      "(1000,)\n",
      "['neutral' 'neutral' 'positive' 'positive']\n"
     ]
    }
   ],
   "source": [
    "save_sub(model=clf, X_test=X_test, split=split, enc=enc, task='clf')"
   ],
   "metadata": {
    "collapsed": false,
    "ExecuteTime": {
     "end_time": "2023-06-09T20:31:33.613641Z",
     "start_time": "2023-06-09T20:31:29.992342Z"
    }
   }
  }
 ],
 "metadata": {
  "kernelspec": {
   "display_name": "Python 3",
   "language": "python",
   "name": "python3"
  },
  "language_info": {
   "codemirror_mode": {
    "name": "ipython",
    "version": 2
   },
   "file_extension": ".py",
   "mimetype": "text/x-python",
   "name": "python",
   "nbconvert_exporter": "python",
   "pygments_lexer": "ipython2",
   "version": "2.7.6"
  }
 },
 "nbformat": 4,
 "nbformat_minor": 0
}
