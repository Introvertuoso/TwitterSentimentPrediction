{
 "cells": [
  {
   "cell_type": "code",
   "execution_count": 39,
   "outputs": [],
   "source": [
    "team_id = '40'\n",
    "split = \"test_1\""
   ],
   "metadata": {
    "collapsed": false,
    "ExecuteTime": {
     "end_time": "2023-06-09T17:46:07.657707Z",
     "start_time": "2023-06-09T17:46:07.572293Z"
    }
   }
  },
  {
   "cell_type": "code",
   "execution_count": 40,
   "metadata": {
    "collapsed": true,
    "ExecuteTime": {
     "end_time": "2023-06-09T17:46:07.851266Z",
     "start_time": "2023-06-09T17:46:07.578341Z"
    }
   },
   "outputs": [],
   "source": [
    "from src.dataloader import base_loader\n",
    "\n",
    "df, df_test = base_loader(split)"
   ]
  },
  {
   "cell_type": "code",
   "execution_count": 41,
   "outputs": [],
   "source": [
    "from src.embedding import base_embedder\n",
    "from sklearn import preprocessing\n",
    "\n",
    "X = base_embedder(df.words_str.values)\n",
    "y_reg = df.score_compound.values\n",
    "y_clf = preprocessing.LabelEncoder().fit_transform(df.sentiment.values)\n",
    "\n",
    "X_test = base_embedder(df_test.words_str.values)"
   ],
   "metadata": {
    "collapsed": false,
    "ExecuteTime": {
     "end_time": "2023-06-09T17:47:43.684588Z",
     "start_time": "2023-06-09T17:46:07.826813Z"
    }
   }
  },
  {
   "cell_type": "markdown",
   "source": [
    "### Regression"
   ],
   "metadata": {
    "collapsed": false
   }
  },
  {
   "cell_type": "code",
   "execution_count": 42,
   "outputs": [],
   "source": [
    "from imblearn.over_sampling import SMOTE\n",
    "from sklearn.model_selection import train_test_split\n",
    "\n",
    "X_train, X_val, y_train, y_val = train_test_split(X, y_reg, test_size=0.2, random_state=42, stratify=df.sentiment)\n",
    "\n",
    "# X_resampled, y_resampled = SMOTE().fit_resample(X_train, y_train)\n",
    "\n",
    "X_resampled = X_train\n",
    "y_resampled = y_train\n",
    "\n",
    "datasets = [\n",
    "    [X_resampled, y_resampled],\n",
    "    [X_val, y_val]\n",
    "]"
   ],
   "metadata": {
    "collapsed": false,
    "ExecuteTime": {
     "end_time": "2023-06-09T17:47:43.739160Z",
     "start_time": "2023-06-09T17:47:43.683153Z"
    }
   }
  },
  {
   "cell_type": "code",
   "execution_count": 43,
   "outputs": [],
   "source": [
    "from xgboost import XGBRegressor\n",
    "\n",
    "reg = XGBRegressor().fit(X_train, y_train)"
   ],
   "metadata": {
    "collapsed": false,
    "ExecuteTime": {
     "end_time": "2023-06-09T17:48:16.953398Z",
     "start_time": "2023-06-09T17:47:43.707226Z"
    }
   }
  },
  {
   "cell_type": "code",
   "execution_count": 44,
   "outputs": [
    {
     "name": "stdout",
     "output_type": "stream",
     "text": [
      "\n",
      "Split: train\n",
      "\tRMSE: 0.06\n",
      "\tMAE: 0.04\n",
      "\n",
      "Split: valididation\n",
      "\tRMSE: 0.35\n",
      "\tMAE: 0.27\n"
     ]
    }
   ],
   "source": [
    "from src.evaluation import eval_reg\n",
    "\n",
    "eval_reg(reg, datasets)"
   ],
   "metadata": {
    "collapsed": false,
    "ExecuteTime": {
     "end_time": "2023-06-09T17:48:17.096075Z",
     "start_time": "2023-06-09T17:48:16.953856Z"
    }
   }
  },
  {
   "cell_type": "code",
   "execution_count": 45,
   "outputs": [],
   "source": [
    "from src.utils import save_sub\n",
    "\n",
    "save_sub(reg, X_test, split, 'reg')"
   ],
   "metadata": {
    "collapsed": false,
    "ExecuteTime": {
     "end_time": "2023-06-09T17:48:17.115962Z",
     "start_time": "2023-06-09T17:48:17.097345Z"
    }
   }
  },
  {
   "cell_type": "markdown",
   "source": [
    "### Classification"
   ],
   "metadata": {
    "collapsed": false
   }
  },
  {
   "cell_type": "code",
   "execution_count": 46,
   "outputs": [],
   "source": [
    "X_train, X_val, y_train, y_val = train_test_split(X, y_clf, test_size=0.2, random_state=42, stratify=y_clf)\n",
    "\n",
    "X_resampled, y_resampled = SMOTE().fit_resample(X_train, y_train)\n",
    "\n",
    "datasets = [\n",
    "    [X_resampled, y_resampled],\n",
    "    [X_val, y_val]\n",
    "]"
   ],
   "metadata": {
    "collapsed": false,
    "ExecuteTime": {
     "end_time": "2023-06-09T17:48:17.406036Z",
     "start_time": "2023-06-09T17:48:17.109777Z"
    }
   }
  },
  {
   "cell_type": "code",
   "execution_count": 47,
   "outputs": [],
   "source": [
    "from xgboost import XGBClassifier\n",
    "\n",
    "clf = XGBClassifier().fit(X_train, y_train)"
   ],
   "metadata": {
    "collapsed": false,
    "ExecuteTime": {
     "end_time": "2023-06-09T17:49:34.852259Z",
     "start_time": "2023-06-09T17:48:17.407534Z"
    }
   }
  },
  {
   "cell_type": "code",
   "execution_count": 48,
   "outputs": [
    {
     "name": "stdout",
     "output_type": "stream",
     "text": [
      "\n",
      "Split: train\n",
      "              precision    recall  f1-score   support\n",
      "\n",
      "           0       1.00      0.84      0.91      4232\n",
      "           1       0.83      1.00      0.91      4232\n",
      "           2       0.99      0.95      0.97      4232\n",
      "\n",
      "    accuracy                           0.93     12696\n",
      "   macro avg       0.94      0.93      0.93     12696\n",
      "weighted avg       0.94      0.93      0.93     12696\n",
      "\n",
      "\n",
      "Split: validation\n",
      "              precision    recall  f1-score   support\n",
      "\n",
      "           0       0.66      0.26      0.37        96\n",
      "           1       0.79      0.91      0.85      1058\n",
      "           2       0.75      0.57      0.65       446\n",
      "\n",
      "    accuracy                           0.78      1600\n",
      "   macro avg       0.73      0.58      0.62      1600\n",
      "weighted avg       0.77      0.78      0.76      1600\n",
      "\n"
     ]
    }
   ],
   "source": [
    "from src.evaluation import eval_clf\n",
    "\n",
    "eval_clf(clf, datasets)"
   ],
   "metadata": {
    "collapsed": false,
    "ExecuteTime": {
     "end_time": "2023-06-09T17:49:34.896586Z",
     "start_time": "2023-06-09T17:49:34.853098Z"
    }
   }
  },
  {
   "cell_type": "code",
   "execution_count": 49,
   "outputs": [],
   "source": [
    "from src.utils import save_sub\n",
    "\n",
    "save_sub(reg, X_test, split, 'clf')"
   ],
   "metadata": {
    "collapsed": false,
    "ExecuteTime": {
     "end_time": "2023-06-09T17:49:34.901850Z",
     "start_time": "2023-06-09T17:49:34.897664Z"
    }
   }
  },
  {
   "cell_type": "code",
   "execution_count": 49,
   "outputs": [],
   "source": [],
   "metadata": {
    "collapsed": false,
    "ExecuteTime": {
     "end_time": "2023-06-09T17:49:34.903513Z",
     "start_time": "2023-06-09T17:49:34.902268Z"
    }
   }
  }
 ],
 "metadata": {
  "kernelspec": {
   "display_name": "Python 3",
   "language": "python",
   "name": "python3"
  },
  "language_info": {
   "codemirror_mode": {
    "name": "ipython",
    "version": 2
   },
   "file_extension": ".py",
   "mimetype": "text/x-python",
   "name": "python",
   "nbconvert_exporter": "python",
   "pygments_lexer": "ipython2",
   "version": "2.7.6"
  }
 },
 "nbformat": 4,
 "nbformat_minor": 0
}
